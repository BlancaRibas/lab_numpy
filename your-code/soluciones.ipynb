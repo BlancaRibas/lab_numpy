{
 "cells": [
  {
   "cell_type": "code",
   "execution_count": 1,
   "id": "26c7c3a5",
   "metadata": {},
   "outputs": [],
   "source": [
    "#1. Import the NUMPY package under the name np.\n",
    "import numpy as np"
   ]
  },
  {
   "cell_type": "code",
   "execution_count": 2,
   "id": "c0b7ec14",
   "metadata": {},
   "outputs": [
    {
     "name": "stdout",
     "output_type": "stream",
     "text": [
      "<module 'numpy' from '/home/bribas/anaconda3/envs/clase/lib/python3.8/site-packages/numpy/__init__.py'>\n"
     ]
    }
   ],
   "source": [
    "#2. Print the NUMPY version and the configuration.\n",
    "print (np)"
   ]
  },
  {
   "cell_type": "code",
   "execution_count": 3,
   "id": "0895a1f7",
   "metadata": {},
   "outputs": [],
   "source": [
    "#3. Generate a 2x3x5 3-dimensional array with random values. Assign the array to variable \"a\"\n",
    "# Challenge: there are at least three easy ways that use numpy to generate random arrays. How many ways can you find?\n",
    "a=np.empty((2,3,5))"
   ]
  },
  {
   "cell_type": "code",
   "execution_count": 4,
   "id": "5dfd463d",
   "metadata": {},
   "outputs": [
    {
     "name": "stdout",
     "output_type": "stream",
     "text": [
      "[[[0.00000000e+000 0.00000000e+000 9.97338022e-313 2.41907520e-312\n",
      "   2.07955588e-312]\n",
      "  [2.44029516e-312 2.05833592e-312 2.05833592e-312 2.35541533e-312\n",
      "   2.12199579e-312]\n",
      "  [1.08221785e-312 2.14321575e-312 2.50395503e-312 9.97338022e-313\n",
      "   2.29175545e-312]]\n",
      "\n",
      " [[2.44029516e-312 9.97338022e-313 2.22809558e-312 9.97338022e-313\n",
      "   2.56761491e-312]\n",
      "  [2.20687562e-312 2.33419537e-312 9.76118064e-313 9.97338022e-313\n",
      "   2.22809558e-312]\n",
      "  [9.54898106e-313 2.56761491e-312 2.29175545e-312 2.05833592e-312\n",
      "   4.94065646e-322]]]\n"
     ]
    }
   ],
   "source": [
    "#4. Print a.\n",
    "print (a)"
   ]
  },
  {
   "cell_type": "code",
   "execution_count": null,
   "id": "362184c0",
   "metadata": {},
   "outputs": [],
   "source": []
  }
 ],
 "metadata": {
  "kernelspec": {
   "display_name": "clase",
   "language": "python",
   "name": "clase"
  },
  "language_info": {
   "codemirror_mode": {
    "name": "ipython",
    "version": 3
   },
   "file_extension": ".py",
   "mimetype": "text/x-python",
   "name": "python",
   "nbconvert_exporter": "python",
   "pygments_lexer": "ipython3",
   "version": "3.8.8"
  }
 },
 "nbformat": 4,
 "nbformat_minor": 5
}
