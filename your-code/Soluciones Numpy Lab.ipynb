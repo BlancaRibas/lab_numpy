{
 "cells": [
  {
   "cell_type": "code",
   "execution_count": 1,
   "id": "26c7c3a5",
   "metadata": {},
   "outputs": [],
   "source": [
    "#1. Import the NUMPY package under the name np.\n",
    "import numpy as np"
   ]
  },
  {
   "cell_type": "code",
   "execution_count": 2,
   "id": "c0b7ec14",
   "metadata": {},
   "outputs": [
    {
     "name": "stdout",
     "output_type": "stream",
     "text": [
      "<module 'numpy' from '/home/bribas/anaconda3/envs/clase/lib/python3.8/site-packages/numpy/__init__.py'>\n"
     ]
    }
   ],
   "source": [
    "#2. Print the NUMPY version and the configuration.\n",
    "print (np)"
   ]
  },
  {
   "cell_type": "code",
   "execution_count": null,
   "id": "83c35c4d",
   "metadata": {},
   "outputs": [],
   "source": [
    "#3. Generate a 2x3x5 3-dimensional array with random values. Assign the array to variable \"a\"\n",
    "# Challenge: there are at least three easy ways that use numpy to generate random arrays. How many ways can you find?\n"
   ]
  },
  {
   "cell_type": "code",
   "execution_count": null,
   "id": "53190f2c",
   "metadata": {},
   "outputs": [],
   "source": []
  }
 ],
 "metadata": {
  "kernelspec": {
   "display_name": "clase",
   "language": "python",
   "name": "clase"
  },
  "language_info": {
   "codemirror_mode": {
    "name": "ipython",
    "version": 3
   },
   "file_extension": ".py",
   "mimetype": "text/x-python",
   "name": "python",
   "nbconvert_exporter": "python",
   "pygments_lexer": "ipython3",
   "version": "3.8.8"
  }
 },
 "nbformat": 4,
 "nbformat_minor": 5
}
